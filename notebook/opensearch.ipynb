{
 "cells": [
  {
   "cell_type": "code",
   "execution_count": 5,
   "id": "005c5998",
   "metadata": {},
   "outputs": [],
   "source": [
    "from opensearchpy import OpenSearch, RequestsHttpConnection, AWSV4SignerAuth\n",
    "import boto3"
   ]
  },
  {
   "cell_type": "code",
   "execution_count": 6,
   "id": "01f0f5d5",
   "metadata": {},
   "outputs": [],
   "source": [
    "host = 'search-photos-fi6tkdtpua4mm3lpfuebg26sdi.us-east-1.es.amazonaws.com'\n",
    "region = 'us-east-1'\n",
    "botID = '0YKQS6ZTGQ'\n",
    "botAliasID = 'CJXWCG6WUW'\n",
    "sessionID = 'session'\n",
    "localeID = 'en_US'\n",
    "\n",
    "credentials = boto3.Session().get_credentials()\n",
    "auth = AWSV4SignerAuth(credentials, region)\n",
    "index_name = 'photo'\n",
    "opensearch = OpenSearch(\n",
    "    hosts = [{'host': host, 'port': 443}],\n",
    "    http_auth = auth,\n",
    "    use_ssl = True,\n",
    "    verify_certs = True,\n",
    "    connection_class = RequestsHttpConnection\n",
    ")\n",
    "lex = boto3.client('lexv2-runtime')"
   ]
  },
  {
   "cell_type": "code",
   "execution_count": 8,
   "id": "3ecafe85",
   "metadata": {},
   "outputs": [
    {
     "data": {
      "text/plain": [
       "{'acknowledged': True, 'shards_acknowledged': True, 'index': 'photo'}"
      ]
     },
     "execution_count": 8,
     "metadata": {},
     "output_type": "execute_result"
    }
   ],
   "source": [
    "opensearch.indices.create(index_name)"
   ]
  },
  {
   "cell_type": "code",
   "execution_count": 39,
   "id": "4e9d8915",
   "metadata": {},
   "outputs": [],
   "source": [
    "def get_s3_paths(labels):\n",
    "    query = {\n",
    "              'size': 5,\n",
    "              'query': {\n",
    "                'multi_match': {\n",
    "                  'query': \"+\".join(labels),\n",
    "                  'fields': [\"label\"]\n",
    "                }\n",
    "              }\n",
    "            }\n",
    "    response = opensearch.search(\n",
    "        body = query,\n",
    "        index = index_name\n",
    "    )\n",
    "    return [hits['_source']['s3_path'] for hits in response['hits']['hits']]"
   ]
  },
  {
   "cell_type": "code",
   "execution_count": 48,
   "id": "5bd913e3",
   "metadata": {},
   "outputs": [
    {
     "data": {
      "text/plain": [
       "['https://bucket-album.s3.amazonaws.com/kudasai.jpg',\n",
       " 'https://bucket-album.s3.amazonaws.com/kudukk.jpg',\n",
       " 'https://bucket-album.s3.amazonaws.com/kudukk.jpg',\n",
       " 'https://bucket-album.s3.amazonaws.com/kudasai.jpg']"
      ]
     },
     "execution_count": 48,
     "metadata": {},
     "output_type": "execute_result"
    }
   ],
   "source": [
    "query = {\n",
    "          'size': 5,\n",
    "          'query': {\n",
    "            'match': {\n",
    "              'query': \"hello+world\",\n",
    "              'fields': [\"label\"]\n",
    "            }\n",
    "          }\n",
    "        }\n",
    "response = opensearch.search(\n",
    "    body = query,\n",
    "    index = index_name\n",
    ")\n",
    "[hits['_source']['s3_path'] for hits in response['hits']['hits']]"
   ]
  },
  {
   "cell_type": "code",
   "execution_count": 41,
   "id": "8085d255",
   "metadata": {},
   "outputs": [
    {
     "data": {
      "text/plain": [
       "['https://bucket-album.s3.amazonaws.com/kudasai.jpg',\n",
       " 'https://bucket-album.s3.amazonaws.com/kudukk.jpg',\n",
       " 'https://bucket-album.s3.amazonaws.com/kudukk.jpg',\n",
       " 'https://bucket-album.s3.amazonaws.com/kudasai.jpg']"
      ]
     },
     "execution_count": 41,
     "metadata": {},
     "output_type": "execute_result"
    }
   ],
   "source": [
    "get_s3_paths(['hello', 'world'])"
   ]
  },
  {
   "cell_type": "code",
   "execution_count": 21,
   "id": "448f9c74",
   "metadata": {},
   "outputs": [],
   "source": [
    "def get_labels(s3_path):\n",
    "    query = {\n",
    "              'size': 20,\n",
    "              'query': {\n",
    "                'multi_match': {\n",
    "                  'query': s3_path,\n",
    "                  'fields': [\"s3_path\"]\n",
    "                }\n",
    "              }\n",
    "            }\n",
    "    response = opensearch.search(\n",
    "        body = query,\n",
    "        index = index_name\n",
    "    )\n",
    "    return [hits['_source']['label'] for hits in response['hits']['hits']]"
   ]
  },
  {
   "cell_type": "code",
   "execution_count": 27,
   "id": "938fd90c",
   "metadata": {},
   "outputs": [],
   "source": [
    "def lambda_handler(event, context):\n",
    "    full_query = event['q']\n",
    "    response = lex.recognize_text(\n",
    "            botId=botID,\n",
    "            botAliasId=botAliasID,\n",
    "            localeId=localeID,\n",
    "            sessionId=sessionID,\n",
    "            text=full_query)\n",
    "\n",
    "    result = {'result': []}\n",
    "    if response['sessionState']['intent']['name'] in ['SearchIntent', 'FallbackIntent']:\n",
    "        queries = full_query.split(' ')\n",
    "        images = set()\n",
    "        for query in queries:\n",
    "            query = ''.join(x for x in query if x.isalpha()).lower()\n",
    "            s3_paths = get_s3_paths(query)\n",
    "            images.update(s3_paths)\n",
    "        images = list(images)\n",
    "\n",
    "        for image in images:\n",
    "            result['result'].append(\n",
    "                {\n",
    "                    'url': image,\n",
    "                    'labels': get_labels(image)\n",
    "                }\n",
    "            )\n",
    "    return result "
   ]
  },
  {
   "cell_type": "code",
   "execution_count": 28,
   "id": "3f838106",
   "metadata": {
    "scrolled": true
   },
   "outputs": [
    {
     "data": {
      "text/plain": [
       "{'result': [{'url': 'https://bucket-album.s3.amazonaws.com/kudasai.jpg',\n",
       "   'labels': ['hello',\n",
       "    'Abyssinian',\n",
       "    'Cat',\n",
       "    'Chair',\n",
       "    'world',\n",
       "    'Pet',\n",
       "    'Mammal',\n",
       "    'Cushion',\n",
       "    'Couch',\n",
       "    'Animal',\n",
       "    'Kitten',\n",
       "    'Manx',\n",
       "    'Couch',\n",
       "    'Kitten',\n",
       "    'cuki',\n",
       "    'Manx',\n",
       "    'cuki',\n",
       "    'Chair',\n",
       "    'Cat',\n",
       "    'Pet']},\n",
       "  {'url': 'https://bucket-album.s3.amazonaws.com/kudukk.jpg',\n",
       "   'labels': ['Manx',\n",
       "    'Chair',\n",
       "    'Couch',\n",
       "    'Kitten',\n",
       "    'hello',\n",
       "    'world',\n",
       "    'Abyssinian',\n",
       "    'Cat',\n",
       "    'Pet',\n",
       "    'Animal',\n",
       "    'Mammal',\n",
       "    'Cushion',\n",
       "    'Cat',\n",
       "    'Chair',\n",
       "    'cuki',\n",
       "    'world',\n",
       "    'Pet',\n",
       "    'cuki',\n",
       "    'Mammal',\n",
       "    'Cushion']}]}"
      ]
     },
     "execution_count": 28,
     "metadata": {},
     "output_type": "execute_result"
    }
   ],
   "source": [
    "def lambda_handler(event, context):\n",
    "    query = event['q']\n",
    "    \n",
    "    response = client.recognize_text(\n",
    "            botId=botID,\n",
    "            botAliasId=botAliasID,\n",
    "            localeId=localeID,\n",
    "            sessionId=sessionID,\n",
    "            text=query)\n",
    "    \n",
    "    outgoing_msgs = response['messages']\n",
    "    session_intent = response['sessionState']['intent']\n",
    "    \n",
    "    if (session_intent['name'] == 'DiningSuggestionsIntent') & (session_intent['state'] == 'ReadyForFulfillment') & (session_intent['confirmationState'] == 'Confirmed'):\n",
    "        print({k: v['value']['interpretedValue'] for k, v in slots.items()})\n",
    "    \n",
    "    if len(outgoing_msgs):\n",
    "        msgs = []\n",
    "        for outgoing_msg in outgoing_msgs:\n",
    "            print(\"outgoing_msg : {}\".format(outgoing_msg))\n",
    "            outgoing_msg_content = outgoing_msg['content']\n",
    "            msgs.append({\n",
    "                    \"type\": \"unstructured\",\n",
    "                    \"unstructured\": {\n",
    "                    \"id\": str(uuid.uuid4()),\n",
    "                    \"text\": outgoing_msg_content,\n",
    "                    \"timestamp\": datetime.datetime.isoformat(datetime.datetime.now()),\n",
    "                    }\n",
    "                })\n",
    "        return {\n",
    "                \"messages\": msgs\n",
    "            }\n",
    "    else:\n",
    "        raise ValueError(\"Lex has Failed\")"
   ]
  },
  {
   "cell_type": "code",
   "execution_count": 23,
   "id": "13f5c37e",
   "metadata": {},
   "outputs": [
    {
     "data": {
      "text/plain": [
       "['hello',\n",
       " 'Abyssinian',\n",
       " 'Cat',\n",
       " 'Chair',\n",
       " 'world',\n",
       " 'Pet',\n",
       " 'Mammal',\n",
       " 'Cushion',\n",
       " 'Couch',\n",
       " 'Animal',\n",
       " 'Kitten',\n",
       " 'Manx',\n",
       " 'Couch',\n",
       " 'Kitten',\n",
       " 'cuki',\n",
       " 'Manx',\n",
       " 'cuki',\n",
       " 'Chair',\n",
       " 'Cat',\n",
       " 'Pet']"
      ]
     },
     "execution_count": 23,
     "metadata": {},
     "output_type": "execute_result"
    }
   ],
   "source": [
    "get_labels('https://bucket-album.s3.amazonaws.com/kudasai.jpg')"
   ]
  },
  {
   "cell_type": "code",
   "execution_count": null,
   "id": "0dec773d",
   "metadata": {},
   "outputs": [],
   "source": []
  }
 ],
 "metadata": {
  "kernelspec": {
   "display_name": "cloud",
   "language": "python",
   "name": "cloud"
  },
  "language_info": {
   "codemirror_mode": {
    "name": "ipython",
    "version": 3
   },
   "file_extension": ".py",
   "mimetype": "text/x-python",
   "name": "python",
   "nbconvert_exporter": "python",
   "pygments_lexer": "ipython3",
   "version": "3.6.9"
  }
 },
 "nbformat": 4,
 "nbformat_minor": 5
}
