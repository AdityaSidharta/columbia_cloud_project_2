{
 "cells": [
  {
   "cell_type": "code",
   "execution_count": null,
   "id": "64190adf",
   "metadata": {},
   "outputs": [],
   "source": [
    "import json\n",
    "import urllib.parse\n",
    "import boto3\n",
    "from datetime import datetime\n",
    "\n",
    "s3 = boto3.client('s3')\n",
    "rekognition = boto3.client('rekognition')\n",
    "\n",
    "def lambda_handler(event, context):\n",
    "    print(\"Received event: \" + json.dumps(event))\n",
    "    bucket = event['Records'][0]['s3']['bucket']['name']\n",
    "    key = urllib.parse.unquote_plus(event['Records'][0]['s3']['object']['key'], encoding='utf-8')\n",
    "    today = datetime.now()\n",
    "    try:\n",
    "        response = client.detect_labels(Image={'S3Object':{'Bucket':bucket,'Name':photo}},\n",
    "            MaxLabels=10)\n",
    "        labels = [x['Name'] for x in response['Labels']]\n",
    "        print(\"detected labels : {}\".format(labels))\n",
    "        return {\n",
    "            \"objectKey\": key,\n",
    "            \"bucket\": bucket,\n",
    "            'createdTimestamp': today.isoformat()\n",
    "            \"labels\": labels\n",
    "        }\n",
    "    except Exception as e:\n",
    "        print(e)\n",
    "        print('Error getting object {} from bucket {}.'.format(key, bucket))\n",
    "        raise e\n"
   ]
  },
  {
   "cell_type": "code",
   "execution_count": 4,
   "id": "2f78e41f",
   "metadata": {},
   "outputs": [
    {
     "name": "stdout",
     "output_type": "stream",
     "text": [
      "Response: {'ResponseMetadata': {'RequestId': '9SYW3RMCM9S98GPX', 'HostId': 'XU7JgM0wRsnmfuOygZ2Y9NIrL0X8PQFzh0gLpqZyrKBu6PhoPCmfzg+vClxDXcgg5s9MGjWcK28=', 'HTTPStatusCode': 200, 'HTTPHeaders': {'x-amz-id-2': 'XU7JgM0wRsnmfuOygZ2Y9NIrL0X8PQFzh0gLpqZyrKBu6PhoPCmfzg+vClxDXcgg5s9MGjWcK28=', 'x-amz-request-id': '9SYW3RMCM9S98GPX', 'date': 'Mon, 07 Nov 2022 01:12:31 GMT', 'last-modified': 'Mon, 07 Nov 2022 01:07:59 GMT', 'etag': '\"b1b35b0572cbf3d4a0c8fa08f361ae0a\"', 'x-amz-meta-customlabels': 'hello,world', 'accept-ranges': 'bytes', 'content-type': 'image/jpeg', 'server': 'AmazonS3', 'content-length': '103809'}, 'RetryAttempts': 0}, 'AcceptRanges': 'bytes', 'LastModified': datetime.datetime(2022, 11, 7, 1, 7, 59, tzinfo=tzutc()), 'ContentLength': 103809, 'ETag': '\"b1b35b0572cbf3d4a0c8fa08f361ae0a\"', 'ContentType': 'image/jpeg', 'Metadata': {'customlabels': 'hello,world'}}\n"
     ]
    }
   ],
   "source": [
    "import json\n",
    "import urllib.parse\n",
    "import boto3\n",
    "from datetime import datetime\n",
    "\n",
    "s3 = boto3.client('s3')\n",
    "response = s3.head_object(Bucket='bucket-album', Key='se.jpg')\n",
    "\n",
    "print('Response: {}'.format(response))"
   ]
  },
  {
   "cell_type": "code",
   "execution_count": 6,
   "id": "12a694cc",
   "metadata": {},
   "outputs": [
    {
     "data": {
      "text/plain": [
       "{'x-amz-id-2': 'XU7JgM0wRsnmfuOygZ2Y9NIrL0X8PQFzh0gLpqZyrKBu6PhoPCmfzg+vClxDXcgg5s9MGjWcK28=',\n",
       " 'x-amz-request-id': '9SYW3RMCM9S98GPX',\n",
       " 'date': 'Mon, 07 Nov 2022 01:12:31 GMT',\n",
       " 'last-modified': 'Mon, 07 Nov 2022 01:07:59 GMT',\n",
       " 'etag': '\"b1b35b0572cbf3d4a0c8fa08f361ae0a\"',\n",
       " 'x-amz-meta-customlabels': 'hello,world',\n",
       " 'accept-ranges': 'bytes',\n",
       " 'content-type': 'image/jpeg',\n",
       " 'server': 'AmazonS3',\n",
       " 'content-length': '103809'}"
      ]
     },
     "execution_count": 6,
     "metadata": {},
     "output_type": "execute_result"
    }
   ],
   "source": [
    "response['ResponseMetadata']['HTTPHeaders']"
   ]
  },
  {
   "cell_type": "code",
   "execution_count": 1,
   "id": "426fe044",
   "metadata": {},
   "outputs": [],
   "source": [
    "import boto3\n",
    "\n",
    "def detect_labels(photo, bucket):\n",
    "    client=boto3.client('rekognition')\n",
    "    response = client.detect_labels(Image={'S3Object':{'Bucket':bucket,'Name':photo}},\n",
    "        MaxLabels=10)\n",
    "    print('Detected labels for ' + photo) \n",
    "    print()   \n",
    "    for label in response['Labels']:\n",
    "        print (\"Label: \" + label['Name'])\n",
    "    return len(response['Labels'])\n",
    "\n",
    "\n",
    "def main():\n",
    "    photo='cutecat.jpg'\n",
    "    bucket='bucket-album'\n",
    "    label_count=detect_labels(photo, bucket)\n",
    "    print(\"Labels detected: \" + str(label_count))\n"
   ]
  },
  {
   "cell_type": "code",
   "execution_count": 2,
   "id": "8635f83b",
   "metadata": {},
   "outputs": [
    {
     "name": "stderr",
     "output_type": "stream",
     "text": [
      "/home/aditya/.pyenv/versions/cloud/lib/python3.6/site-packages/boto3/compat.py:88: PythonDeprecationWarning: Boto3 will no longer support Python 3.6 starting May 30, 2022. To continue receiving service updates, bug fixes, and security updates please upgrade to Python 3.7 or later. More information can be found here: https://aws.amazon.com/blogs/developer/python-support-policy-updates-for-aws-sdks-and-tools/\n",
      "  warnings.warn(warning, PythonDeprecationWarning)\n"
     ]
    },
    {
     "name": "stdout",
     "output_type": "stream",
     "text": [
      "Detected labels for cutecat.jpg\n",
      "\n",
      "Label: Couch\n",
      "Confidence: 96.70336151123047\n",
      "Instances:\n",
      "Parents:\n",
      "   Furniture\n",
      "----------\n",
      "\n",
      "Label: Cat\n",
      "Confidence: 94.3367919921875\n",
      "Instances:\n",
      "  Bounding box\n",
      "    Top: 0.0590653270483017\n",
      "    Left: 0.24809980392456055\n",
      "    Width: 0.5100977420806885\n",
      "    Height: 0.909473180770874\n",
      "  Confidence: 94.0555648803711\n",
      "\n",
      "Parents:\n",
      "   Animal\n",
      "   Mammal\n",
      "   Pet\n",
      "----------\n",
      "\n",
      "Label: Pet\n",
      "Confidence: 94.3367919921875\n",
      "Instances:\n",
      "Parents:\n",
      "   Animal\n",
      "----------\n",
      "\n",
      "Label: Animal\n",
      "Confidence: 94.3367919921875\n",
      "Instances:\n",
      "Parents:\n",
      "----------\n",
      "\n",
      "Label: Mammal\n",
      "Confidence: 94.3367919921875\n",
      "Instances:\n",
      "Parents:\n",
      "   Animal\n",
      "----------\n",
      "\n",
      "Label: Kitten\n",
      "Confidence: 93.94374084472656\n",
      "Instances:\n",
      "Parents:\n",
      "   Animal\n",
      "   Cat\n",
      "   Mammal\n",
      "   Pet\n",
      "----------\n",
      "\n",
      "Label: Cushion\n",
      "Confidence: 57.85679626464844\n",
      "Instances:\n",
      "Parents:\n",
      "   Home Decor\n",
      "----------\n",
      "\n",
      "Label: Manx\n",
      "Confidence: 56.86974334716797\n",
      "Instances:\n",
      "Parents:\n",
      "   Animal\n",
      "   Cat\n",
      "   Mammal\n",
      "   Pet\n",
      "----------\n",
      "\n",
      "Label: Abyssinian\n",
      "Confidence: 56.19367218017578\n",
      "Instances:\n",
      "Parents:\n",
      "   Animal\n",
      "   Cat\n",
      "   Mammal\n",
      "   Pet\n",
      "----------\n",
      "\n",
      "Label: Chair\n",
      "Confidence: 56.14263153076172\n",
      "Instances:\n",
      "Parents:\n",
      "   Furniture\n",
      "----------\n",
      "\n",
      "Labels detected: 10\n"
     ]
    }
   ],
   "source": [
    "main()"
   ]
  },
  {
   "cell_type": "code",
   "execution_count": 7,
   "id": "e18de6af",
   "metadata": {},
   "outputs": [],
   "source": [
    "from opensearchpy import OpenSearch, RequestsHttpConnection, AWSV4SignerAuth\n",
    "import boto3\n",
    "import pandas as pd"
   ]
  },
  {
   "cell_type": "code",
   "execution_count": 9,
   "id": "1a0a441f",
   "metadata": {},
   "outputs": [],
   "source": [
    "host = 'search-photos-fi6tkdtpua4mm3lpfuebg26sdi.us-east-1.es.amazonaws.com' # cluster endpoint, for example: my-test-domain.us-east-1.es.amazonaws.com\n",
    "region = 'us-east-1' # e.g. us-west-1\n",
    "\n",
    "credentials = boto3.Session().get_credentials()\n",
    "auth = AWSV4SignerAuth(credentials, region)\n",
    "index_name = 'photo'"
   ]
  },
  {
   "cell_type": "code",
   "execution_count": 10,
   "id": "da6a3fde",
   "metadata": {},
   "outputs": [],
   "source": [
    "client = OpenSearch(\n",
    "    hosts = [{'host': host, 'port': 443}],\n",
    "    http_auth = auth,\n",
    "    use_ssl = True,\n",
    "    verify_certs = True,\n",
    "    connection_class = RequestsHttpConnection\n",
    ")"
   ]
  },
  {
   "cell_type": "code",
   "execution_count": 11,
   "id": "923cd937",
   "metadata": {},
   "outputs": [
    {
     "name": "stdout",
     "output_type": "stream",
     "text": [
      "\n",
      "Creating index:\n",
      "{'acknowledged': True, 'shards_acknowledged': True, 'index': 'photo'}\n"
     ]
    }
   ],
   "source": [
    "response = client.indices.create(index_name)\n",
    "print('\\nCreating index:')\n",
    "print(response)"
   ]
  },
  {
   "cell_type": "code",
   "execution_count": 16,
   "id": "4c05df03",
   "metadata": {},
   "outputs": [
    {
     "data": {
      "text/plain": [
       "'20221106202719569851'"
      ]
     },
     "execution_count": 16,
     "metadata": {},
     "output_type": "execute_result"
    }
   ],
   "source": [
    "opensearch_id = datetime.now().strftime(\"%Y%m%d%H%M%S%f\")\n",
    "document = {\n",
    "        'label': label,\n",
    "        's3_path': \"https://{}.s3.amazonaws.com/{}\".format(bucket, key)\n",
    "    }\n",
    "response = client.index(\n",
    "    index = index_name,\n",
    "    body = document,\n",
    "    id = i,\n",
    "    refresh = True\n",
    ")"
   ]
  },
  {
   "cell_type": "code",
   "execution_count": 32,
   "id": "01c5dd50",
   "metadata": {},
   "outputs": [],
   "source": [
    "import requests"
   ]
  },
  {
   "cell_type": "code",
   "execution_count": 33,
   "id": "b2dccabe",
   "metadata": {},
   "outputs": [],
   "source": [
    "bucket =  'bucket-album'\n",
    "key = 'hello.jpg'\n",
    "label = 'cuki'"
   ]
  },
  {
   "cell_type": "code",
   "execution_count": 36,
   "id": "77467618",
   "metadata": {},
   "outputs": [],
   "source": [
    "host = 'https://search-photos-fi6tkdtpua4mm3lpfuebg26sdi.us-east-1.es.amazonaws.com' # the OpenSearch Service domain, e.g. https://search-mydomain.us-west-1.es.amazonaws.com\n",
    "index = 'photo'\n",
    "type = '_doc'\n",
    "url = host + '/' + index + '/' + type\n",
    "headers = { \"Content-Type\": \"application/json\" }"
   ]
  },
  {
   "cell_type": "code",
   "execution_count": 42,
   "id": "31c0d492",
   "metadata": {},
   "outputs": [],
   "source": [
    "document = {\n",
    "        'label': label,\n",
    "        's3_path': \"https://{}.s3.amazonaws.com/{}\".format(bucket, key)\n",
    "    }\n",
    "r = requests.post(url, auth=auth, json=document, headers=headers)"
   ]
  },
  {
   "cell_type": "code",
   "execution_count": 43,
   "id": "253e603e",
   "metadata": {},
   "outputs": [
    {
     "data": {
      "text/plain": [
       "<Response [201]>"
      ]
     },
     "execution_count": 43,
     "metadata": {},
     "output_type": "execute_result"
    }
   ],
   "source": [
    "r"
   ]
  },
  {
   "cell_type": "code",
   "execution_count": 2,
   "id": "f444bd20",
   "metadata": {},
   "outputs": [
    {
     "data": {
      "text/plain": [
       "{3, 4}"
      ]
     },
     "execution_count": 2,
     "metadata": {},
     "output_type": "execute_result"
    }
   ],
   "source": [
    "a = [[1,2,3,4],[2,3,4],[3,4,5],[3,4,5,6]]\n",
    "set.intersection(*map(set,a))"
   ]
  },
  {
   "cell_type": "code",
   "execution_count": 6,
   "id": "beee07e6",
   "metadata": {},
   "outputs": [
    {
     "data": {
      "text/plain": [
       "{1, 2, 3}"
      ]
     },
     "execution_count": 6,
     "metadata": {},
     "output_type": "execute_result"
    }
   ],
   "source": [
    "set([1,2]).union(set([2,3]))"
   ]
  },
  {
   "cell_type": "code",
   "execution_count": 10,
   "id": "f5e51626",
   "metadata": {},
   "outputs": [
    {
     "data": {
      "text/plain": [
       "True"
      ]
     },
     "execution_count": 10,
     "metadata": {},
     "output_type": "execute_result"
    }
   ],
   "source": [
    "\"aads\".endswith(\"s\")"
   ]
  },
  {
   "cell_type": "code",
   "execution_count": null,
   "id": "6b470016",
   "metadata": {},
   "outputs": [],
   "source": []
  }
 ],
 "metadata": {
  "kernelspec": {
   "display_name": "cloud",
   "language": "python",
   "name": "cloud"
  },
  "language_info": {
   "codemirror_mode": {
    "name": "ipython",
    "version": 3
   },
   "file_extension": ".py",
   "mimetype": "text/x-python",
   "name": "python",
   "nbconvert_exporter": "python",
   "pygments_lexer": "ipython3",
   "version": "3.6.9"
  }
 },
 "nbformat": 4,
 "nbformat_minor": 5
}
